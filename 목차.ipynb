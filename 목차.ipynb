{
 "cells": [
  {
   "cell_type": "markdown",
   "metadata": {},
   "source": [
    "# Deep Learning from Scratch\n",
    "\n",
    "## 1장\n",
    "\n",
    "http://nbviewer.jupyter.org/github/SDRLurker/deep-learning/blob/master/1장.ipynb\n",
    "\n",
    "## 2장\n",
    "\n",
    "http://nbviewer.jupyter.org/github/SDRLurker/deep-learning/blob/master/2장.ipynb\n",
    "\n",
    "## 3장\n",
    "\n",
    "http://nbviewer.jupyter.org/github/SDRLurker/deep-learning/blob/master/3장.ipynb"
   ]
  }
 ],
 "metadata": {
  "anaconda-cloud": {}
 },
 "nbformat": 4,
 "nbformat_minor": 0
}
