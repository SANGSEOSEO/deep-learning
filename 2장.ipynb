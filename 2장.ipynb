{
 "cells": [
  {
   "cell_type": "markdown",
   "metadata": {},
   "source": [
    "# 2 퍼셉트론\n",
    "퍼셉트론(perceptron) 알고리즘\n",
    "\n",
    "프랑크 로젠브라크(Frank Rosenblatt)가 1957년 고안한 알고리즘\n",
    "\n",
    "신경망(딥러닝)의 기원이 되는 알고리즘"
   ]
  },
  {
   "cell_type": "markdown",
   "metadata": {},
   "source": [
    "## 2.1 퍼셉트론이란?\n",
    "퍼셉트론(인공뉴런): 다수의 신호를 입력으로 받아 하나의 신호를 출력\n",
    "\n",
    "신호: 흐른다(1), 흐르지 않는다(0) 두 가지 값을 가짐.\n",
    "\n",
    "입력신호: x1, x2\n",
    "\n",
    "출력신호: y\n",
    "\n",
    "가중치: w1, w2(w는 weight의 머리글자) \n",
    "\n",
    "퍼셉트론에서는 가중치가 클수록 강한 신호를 흘림.\n",
    "\n",
    "전류에서 말하는 저항. 저항이 낮을 수록 큰 전류가 흐름.\n",
    "\n",
    "뉴런, 노드: x1, x2, y\n",
    "\n",
    "입력신호가 뉴런에 보내질 때 가각 고유한 가중치가 곱해짐. (w1x1, w2x2)\n",
    "\n",
    "뉴런이 활성화: 뉴런에서 보내온 신호의 총합이 정해진 한계를 넘어설 때만 1을 출력\n",
    "\n",
    "임계값: 정해진 한계. 세타 기호로 표현\n",
    "\n",
    "\\begin{equation*}\n",
    "y = 0 (w_1 x_1 + w_2 x_2 <= theta)\n",
    "\\end{equation*}\n",
    "\\begin{equation*}\n",
    "y = 1 (w_1 x_1 + w_2 x_2 > theta)\n",
    "\\end{equation*}"
   ]
  },
  {
   "cell_type": "markdown",
   "metadata": {},
   "source": [
    "## 2.2 단순한 논리 회로\n",
    "\n",
    "### 2.2.1 AND 게이트\n",
    "\n",
    "진리표: 입력 신호와 출력 신호의 대응표\n",
    "\n",
    "AND 게이트 진리표\n",
    "\n",
    "| x1 | x2 | x3 |\n",
    "|----|----|----|\n",
    "|  0 |  0 |  0 |\n",
    "|  1 |  0 |  0 |\n",
    "|  0 |  1 |  0 |\n",
    "|  1 |  1 |  1 |\n",
    "\n",
    "퍼셉트론으로 표현하려면 진리표대로 작동하는 w1, w1, 세타 값을 정해야 함\n",
    "\n",
    "(w1, w2, 세타) = (0.5, 0.5, 0.7), (0.5, 0.5, 0.8) 또는 (1.0, 1.0, 1.0)\n",
    "\n",
    "x1, x2가 모두 1일 때만 가중신호의 총합이 주어진 임계값을 넘게 됨."
   ]
  },
  {
   "cell_type": "markdown",
   "metadata": {},
   "source": [
    "### 2.2.2 NAND 게이트와 OR 게이트\n",
    "NAND = not AND. AND 게이트의 출력을 뒤집은 것.\n",
    "\n",
    "NAND 게이트 진리표\n",
    "\n",
    "| x1 | x2 | x3 |\n",
    "|----|----|----|\n",
    "|  0 |  0 |  1 |\n",
    "|  1 |  0 |  1 |\n",
    "|  0 |  1 |  1 |\n",
    "|  1 |  1 |  0 |\n",
    "\n",
    "AND 게이트를 구현하는 매개변수의 부호를 모두 반전하면 NAND 게이트가 됨\n",
    "\n",
    "OR 게이트 진리표\n",
    "\n",
    "| x1 | x2 | x3 |\n",
    "|----|----|----|\n",
    "|  0 |  0 |  0 |\n",
    "|  1 |  0 |  1 |\n",
    "|  0 |  1 |  1 |\n",
    "|  1 |  1 |  1 |\n",
    "\n",
    "각 게이트에 대한 퍼셉트론의 구조는 모두 같음\n",
    "\n",
    "차이점은 매개변수(가중치와 임계값)\n",
    "\n",
    "퍼셉트론의 매개변수 값\n",
    "\n",
    "기계학습 문제는 매개변수(가중치와 임계값)을 정하는 작업을 컴퓨터가 자동으로 함\n",
    "\n",
    "학습: 적절한 매개변수를 정하는 작업\n",
    "\n",
    "사람은 퍼셉트론의 구조(모델)를 고민하고 컴퓨터에 학습할 데이터를 제공."
   ]
  },
  {
   "cell_type": "markdown",
   "metadata": {},
   "source": [
    "## 2.3 퍼셉트론 구현하기\n",
    "\n",
    "### 2.3.1 간단한 구현부터\n",
    "\n",
    "x1, x2를 인수로 받는 AND라는 함수"
   ]
  },
  {
   "cell_type": "code",
   "execution_count": 1,
   "metadata": {
    "collapsed": true
   },
   "outputs": [],
   "source": [
    "def AND(x1, x2):\n",
    "    w1, w2, theta = 0.5, 0.5, 0.7\n",
    "    tmp = x1*w1 + x2*w2\n",
    "    if tmp <= theta:\n",
    "        return 0\n",
    "    elif tmp > theta:\n",
    "        return 1"
   ]
  },
  {
   "cell_type": "code",
   "execution_count": 2,
   "metadata": {
    "collapsed": false
   },
   "outputs": [
    {
     "name": "stdout",
     "output_type": "stream",
     "text": [
      "0\n",
      "0\n",
      "0\n",
      "1\n"
     ]
    }
   ],
   "source": [
    "print(AND(0, 0)) # 0을 출력\n",
    "print(AND(1, 0)) # 0을 출력\n",
    "print(AND(0, 1)) # 0을 출력\n",
    "print(AND(1, 1)) # 1을 출력"
   ]
  },
  {
   "cell_type": "markdown",
   "metadata": {},
   "source": [
    "### 2.3.2 가중치와 편향 도입\n",
    "세타를 -b로 치환하면 다음처럼 퍼셉트론 동작이 변경됨\n",
    "\n",
    "b를 편향(bias)라고 함\n",
    "\n",
    "\\begin{equation*}\n",
    "y = 0 (b + w_1 x_1 + w_2 x_2 <= 0)\n",
    "\\end{equation*}\n",
    "\\begin{equation*}\n",
    "y = 1 (b + w_1 x_1 + w_2 x_2 > 0)\n",
    "\\end{equation*}\n",
    "\n",
    "넘파이를 사용해서 위의 식을 구현"
   ]
  },
  {
   "cell_type": "code",
   "execution_count": 3,
   "metadata": {
    "collapsed": false
   },
   "outputs": [
    {
     "data": {
      "text/plain": [
       "array([ 0. ,  0.5])"
      ]
     },
     "execution_count": 3,
     "metadata": {},
     "output_type": "execute_result"
    }
   ],
   "source": [
    "import numpy as np\n",
    "x = np.array([0, 1])     # 입력\n",
    "w = np.array([0.5, 0.5]) # 가중치\n",
    "b = -0.7                 # 편향\n",
    "w*x"
   ]
  },
  {
   "cell_type": "code",
   "execution_count": 4,
   "metadata": {
    "collapsed": false
   },
   "outputs": [
    {
     "data": {
      "text/plain": [
       "0.5"
      ]
     },
     "execution_count": 4,
     "metadata": {},
     "output_type": "execute_result"
    }
   ],
   "source": [
    "np.sum(w*x)"
   ]
  },
  {
   "cell_type": "code",
   "execution_count": 5,
   "metadata": {
    "collapsed": false
   },
   "outputs": [
    {
     "data": {
      "text/plain": [
       "-0.19999999999999996"
      ]
     },
     "execution_count": 5,
     "metadata": {},
     "output_type": "execute_result"
    }
   ],
   "source": [
    "np.sum(w*x) + b"
   ]
  },
  {
   "cell_type": "markdown",
   "metadata": {},
   "source": [
    "### 2.3.3 가중치와 편향 구현하기\n",
    "'가중치와 편향을 도입'한 AND 게이트 구현"
   ]
  },
  {
   "cell_type": "code",
   "execution_count": 6,
   "metadata": {
    "collapsed": true
   },
   "outputs": [],
   "source": [
    "def AND(x1, x2):\n",
    "    x = np.array([x1, x2])\n",
    "    w = np.array([0.5, 0.5])\n",
    "    b = -0.7\n",
    "    tmp = np.sum(w*x) + b\n",
    "    if tmp <= 0:\n",
    "        return 0\n",
    "    else:\n",
    "        return 1"
   ]
  },
  {
   "cell_type": "markdown",
   "metadata": {},
   "source": [
    "가중치(w1, w2)는 각 입력 신호가 결과에 주는 영향력(중요도)을 조절하는 매개변수\n",
    "\n",
    "편향(b)은 뉴런이 얼마나 쉽게 활성화(결과로 1을 출력)하느냐를 조정하는 매개변수\n",
    "\n",
    "예시) b가 -0.1이면 가중치를 곱한 합이 0.1을 초과할 때 뉴런이 활성화.\n",
    "\n",
    "편향의 의미: 한 쪽으로 치우쳐 균형을 깬다."
   ]
  },
  {
   "cell_type": "markdown",
   "metadata": {},
   "source": [
    "NAND 게이트와 OR 게이트 구현"
   ]
  },
  {
   "cell_type": "code",
   "execution_count": 7,
   "metadata": {
    "collapsed": true
   },
   "outputs": [],
   "source": [
    "def NAND(x1, x2):\n",
    "    x = np.array([x1, x2])\n",
    "    w = np.array([-0.5, -0.5]) # AND와는 가중치(w와 b)만 다르다.\n",
    "    b = 0.7\n",
    "    tmp = np.sum(w*x) + b\n",
    "    if tmp <= 0:\n",
    "        return 0\n",
    "    else:\n",
    "        return 1\n",
    "    \n",
    "def OR(x1, x2):\n",
    "    x = np.array([x1, x2])\n",
    "    w = np.array([0.5, 0.5]) # AND와는 가중치(w와 b)만 다르다.\n",
    "    b = -0.2\n",
    "    tmp = np.sum(w*x) + b\n",
    "    if tmp <= 0:\n",
    "        return 0\n",
    "    else:\n",
    "        return 1"
   ]
  },
  {
   "cell_type": "markdown",
   "metadata": {},
   "source": [
    "## 2.4 퍼셉트론의 한계"
   ]
  },
  {
   "cell_type": "markdown",
   "metadata": {},
   "source": [
    "### 2.4.1 도전! XOR 게이트\n",
    "XOR 게이트 배타적 논리합. x1과 x2 한쪽이 1일 때만 1을 출력. (배타적이란 자기 외에는 거부한다는 의미)\n",
    "\n",
    "XOR 게이트 진리표\n",
    "\n",
    "| x1 | x2 | x3 |\n",
    "|----|----|----|\n",
    "|  0 |  0 |  0 |\n",
    "|  1 |  0 |  1 |\n",
    "|  0 |  1 |  1 |\n",
    "|  1 |  1 |  0 |\n",
    "\n",
    "지금까지 본 퍼셉트론은 XOR 게이트를 구현할 수 없음."
   ]
  },
  {
   "cell_type": "markdown",
   "metadata": {},
   "source": [
    "(b, w1, w2) = (-0.5, 1.0, 1.0)일 때 OR 게이트 퍼셉트론 식\n",
    "\n",
    "\\begin{equation*}\n",
    "y = 0 (-0.5 + x_1 + x_2 <= 0)\n",
    "\\end{equation*}\n",
    "\\begin{equation*}\n",
    "y = 1 (-0.5 + x_1 + x_2 > 0)\n",
    "\\end{equation*}\n",
    "\n",
    "퍼셉트론의 시각화: 회색 영역은 0을 출력하는 영역. 전체 영역을 OR 게이트 성질을 만족"
   ]
  },
  {
   "cell_type": "code",
   "execution_count": 8,
   "metadata": {
    "collapsed": false
   },
   "outputs": [
    {
     "data": {
      "image/png": "[encoded data removed]",
      "text/plain": [
       "<matplotlib.figure.Figure at 0x82147b67f0>"
      ]
     },
     "metadata": {},
     "output_type": "display_data"
    }
   ],
   "source": [
    "%matplotlib inline \n",
    "\n",
    "import numpy as np\n",
    "import matplotlib.pyplot as plt\n",
    "import matplotlib\n",
    "\n",
    "x1 = np.arange(-1, 3, 0.1)\n",
    "x2 = -x1 + 0.5\n",
    "\n",
    "plt.axvline(x=0, color = 'b')  # draw x =0 axes\n",
    "plt.axhline(y=0, color = 'b')   # draw y =0 axes\n",
    "\n",
    "# 그래프 그리기\n",
    "plt.plot(x1, x2, label=\"or\")\n",
    "plt.xlabel(\"X1\") # x축 이름\n",
    "plt.ylabel(\"X2\") # y축 이름\n",
    "plt.legend()\n",
    "\n",
    "plt.fill_between(x1, x2, -3, color='grey', alpha='0.5')\n",
    "\n",
    "plt.scatter([0],[0],marker='o',color='r')\n",
    "plt.scatter([1,0,1],[0,1,1],marker='^',color='r')\n",
    "plt.show()"
   ]
  },
  {
   "cell_type": "markdown",
   "metadata": {},
   "source": [
    "OR 게이트는 (x1,x2)=(0,0)일 때 0을 출력(원으로 표시). (0,1),(1,0),(1,1)일 때 1을 출력(세모로 표시)\n",
    "\n",
    "XOR 게이트를 직선 하나로 0과 1을 나누는 영역을 만들 수 있을까?"
   ]
  },
  {
   "cell_type": "code",
   "execution_count": 9,
   "metadata": {
    "collapsed": false
   },
   "outputs": [
    {
     "data": {
      "image/png": "[encoded data removed]",
      "text/plain": [
       "<matplotlib.figure.Figure at 0x8212a045f8>"
      ]
     },
     "metadata": {},
     "output_type": "display_data"
    }
   ],
   "source": [
    "x1 = np.arange(-1, 3, 0.1)\n",
    "x2 = -x1 + 0.5\n",
    "\n",
    "plt.axvline(x=0, color = 'b')  # draw x =0 axes\n",
    "plt.axhline(y=0, color = 'b')   # draw y =0 axes\n",
    "plt.xlabel(\"X1\") # x축 이름\n",
    "plt.ylabel(\"X2\") # y축 이름\n",
    "\n",
    "plt.scatter([0,1],[0,1],marker='o',color='r')\n",
    "plt.scatter([1,0],[0,1],marker='^',color='r')\n",
    "plt.show()"
   ]
  },
  {
   "cell_type": "markdown",
   "metadata": {},
   "source": [
    "0과 1을 직선 하나로 나누는 것이 불가능."
   ]
  },
  {
   "cell_type": "markdown",
   "metadata": {},
   "source": [
    "### 2.4.2 선형과 비선형\n",
    "'직선'이란 제약을 없애면 둘을 나눌 수 있음.\n",
    "\n",
    "![title](XOR.png)\n",
    "\n",
    "위와 같은 곡선의 영역을 비선형 영역.\n",
    "\n",
    "직선의 영역을 선형 영역이라함."
   ]
  },
  {
   "cell_type": "code",
   "execution_count": 1,
   "metadata": {
    "collapsed": true
   },
   "outputs": [],
   "source": [
    "import matplotlib.pyplot as plt\n",
    "from matplotlib.image import imread\n",
    "img = imread('XOR.png')"
   ]
  },
  {
   "cell_type": "markdown",
   "metadata": {
    "collapsed": true
   },
   "source": [
    "## 2.5 다층 퍼셉트론이 출동한다면\n",
    "단층 퍼셉트론(single-layer perceptron)으로는 XOR 게이트를 표현할 수 없다. 혹은 비선형 영역을 분리할 수 없다.\n",
    "\n",
    "다중 퍼셉트론(multi-layer perceptron): 퍼셉트론의 층을 쌓음\n",
    "\n",
    "XOR을 층을 하나 더 쌓아서 표현"
   ]
  },
  {
   "cell_type": "markdown",
   "metadata": {},
   "source": [
    "### 2.5.1 기존 게이트 조합하기\n",
    "XOR게이트를 만드는 방법은 다양. \n",
    "\n",
    "AND, NAND, OR 게이트를 조합하는 방법\n",
    "\n",
    "**게이트기호 설명**\n",
    "\n",
    "![title](gates.JPG)\n",
    "\n",
    "**AND, NAND, OR 게이트를 조합해 구현한 XOR 게이트**\n",
    "\n",
    "![title](xor.PNG)\n",
    "\n",
    "**XOR 게이트의 진리표**\n",
    "\n",
    "| x1 | x2 | s1 | s2 | y |\n",
    "|----|----|----|----|---|\n",
    "|  0 |  0 |  1 |  0 | 0 |\n",
    "|  1 |  0 |  1 |  1 | 1 |\n",
    "|  0 |  1 |  1 |  1 | 1 |\n",
    "|  1 |  1 |  0 |  1 | 0 |"
   ]
  },
  {
   "cell_type": "markdown",
   "metadata": {},
   "source": [
    "### 2.5.2 XOR 게이트 구현하기\n",
    "XOR 게이트의 진리표대로 조랍된 XOR 게이트를 파이썬으로 구현 "
   ]
  },
  {
   "cell_type": "code",
   "execution_count": 10,
   "metadata": {
    "collapsed": true
   },
   "outputs": [],
   "source": [
    "def XOR(x1, x2):\n",
    "    s1 = NAND(x1, x2)\n",
    "    s2 = OR(x1, x2)\n",
    "    y = AND(s1, s2)\n",
    "    return y"
   ]
  },
  {
   "cell_type": "code",
   "execution_count": 11,
   "metadata": {
    "collapsed": false
   },
   "outputs": [
    {
     "name": "stdout",
     "output_type": "stream",
     "text": [
      "0\n",
      "1\n",
      "1\n",
      "0\n"
     ]
    }
   ],
   "source": [
    "print(XOR(0, 0)) # 0을 출력\n",
    "print(XOR(1, 0)) # 1을 출력\n",
    "print(XOR(0, 1)) # 1을 출력\n",
    "print(XOR(1, 1)) # 0을 출력"
   ]
  },
  {
   "cell_type": "markdown",
   "metadata": {},
   "source": [
    "XOR을 퍼셉트론으로 표현\n",
    "![title](layers.PNG)\n",
    "\n",
    "AND, OR는 단층 퍼셉트론\n",
    "\n",
    "XOR은 2층 퍼셉트론\n",
    "\n",
    "2층 퍼셉트론 서술\n",
    "\n",
    "* 0층의 두 뉴런이 입력신호를 받아 1층의 뉴런으로 신호를 보냄\n",
    "* 1층의 뉴런이 2층의 뉴런으로 신호를 보내고 2층의 뉴런은 이 입력신호를 바탕으로 y를 출력\n",
    "\n",
    "작업자(뉴런)들 사이에서 부품을 전달\n",
    "\n",
    "단층 퍼셉트론으로는 표현하지 못한 것을 층을 하나 늘려 구현 가능"
   ]
  },
  {
   "cell_type": "markdown",
   "metadata": {},
   "source": [
    "## 2.6 NAND에서 컴퓨터까지\n",
    "NAND게이트의 조합만으로 컴퓨터가 수행하는 일을 재현 가능\n",
    "\n",
    "The Elements of Computing Systems: Building a Modern Computer from First Priciples 도서 참고\n",
    "\n",
    "\"NAND에서 테트리스까지\"라는 구호 아래 테트리스가 작동하는 컴퓨터를 만듬\n",
    "\n",
    "\"이론상 2층 퍼셉트론이면 컴퓨터를 만들 수 있다\"\n",
    "\n",
    "시그모이드 함수를 활성화 함수로 이용하면 임의의 함수를 표현할 수 있다는 사실이 증명됨(3장 참고)\n",
    "\n",
    "실제로는 저수준 소자에서 시작해서 컴퓨터를 만드는 데 필요한 부품(모듈)을 단계적으로 만드는 쪽이 자연스러움"
   ]
  },
  {
   "cell_type": "markdown",
   "metadata": {},
   "source": [
    "## 2.7 정리"
   ]
  },
  {
   "cell_type": "markdown",
   "metadata": {},
   "source": [
    "이번 장에서 배운 내용\n",
    "\n",
    "퍼셉트론은 입출력을 갖춘 알고리즘. 입력을 주면 정해진 규칙에 따른 값을 출력\n",
    "\n",
    "퍼셉트론은 '가중치'와 '편향'을 매개변수로 설정\n",
    "\n",
    "퍼셉트론으로 AND, OR 게이트 등의 논리 회로를 표현 가능\n",
    "\n",
    "XOR 게이트는 단층 퍼셉트론으로 표현 불가. 2층 퍼셉트론으로 가능\n",
    "\n",
    "단층 퍼셉트론은 직선형 영역만 표현. 다층 퍼셉트론은 비선형 영역도 표현\n",
    "\n",
    "다층 퍼셉트론은 (이론상) 컴퓨터를 표현가능"
   ]
  },
  {
   "cell_type": "markdown",
   "metadata": {},
   "source": [
    "*출처\n",
    "\n",
    "이미지 출처 1 : http://makething.tistory.com/entry/9%EC%9B%94-%EB%85%BC%EB%A6%AC%EA%B2%8C%EC%9D%B4%ED%8A%B8\n",
    "\n",
    "이미지 출처 2 : http://www.minecraftforum.net/forums/minecraft-discussion/redstone-discussion-and/341894-xor-gate-with-2-and-1-not-1-or\n",
    "\n",
    "이미지 출처 3 : https://www.researchgate.net/figure/255786872_fig8_Figure-9-Boundary-decision-for-a-nonlinear-classifier-solving-the-bipolar-XOR-problem\n",
    "\n",
    "이미지 출처 4 : https://github.com/paulseo0827/deeplearning/tree/master/CH2.Perceptron"
   ]
  }
 ],
 "metadata": {
  "anaconda-cloud": {},
  "kernelspec": {
   "display_name": "Python [Root]",
   "language": "python",
   "name": "Python [Root]"
  },
  "language_info": {
   "codemirror_mode": {
    "name": "ipython",
    "version": 3
   },
   "file_extension": ".py",
   "mimetype": "text/x-python",
   "name": "python",
   "nbconvert_exporter": "python",
   "pygments_lexer": "ipython3",
   "version": "3.5.2"
  }
 },
 "nbformat": 4,
 "nbformat_minor": 0
}
